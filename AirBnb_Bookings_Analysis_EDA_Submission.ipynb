{
  "nbformat": 4,
  "nbformat_minor": 0,
  "metadata": {
    "colab": {
      "private_outputs": true,
      "provenance": [],
      "collapsed_sections": [
        "vncDsAP0Gaoa",
        "FJNUwmbgGyua",
        "w6K7xa23Elo4",
        "yQaldy8SH6Dl",
        "PH-0ReGfmX4f",
        "mDgbUHAGgjLW",
        "HhfV-JJviCcP",
        "Y3lxredqlCYt",
        "3RnN4peoiCZX",
        "x71ZqKXriCWQ",
        "7hBIi_osiCS2",
        "JlHwYmJAmNHm",
        "35m5QtbWiB9F",
        "PoPl-ycgm1ru",
        "H0kj-8xxnORC",
        "nA9Y7ga8ng1Z",
        "PBTbrJXOngz2",
        "u3PMJOP6ngxN",
        "dauF4eBmngu3",
        "bKJF3rekwFvQ",
        "MSa1f5Uengrz",
        "0wOQAZs5pc--",
        "K5QZ13OEpz2H",
        "lQ7QKXXCp7Bj",
        "448CDAPjqfQr",
        "KSlN3yHqYklG",
        "t6dVpIINYklI",
        "ijmpgYnKYklI",
        "-JiQyfWJYklI",
        "EM7whBJCYoAo",
        "fge-S5ZAYoAp",
        "85gYPyotYoAp",
        "RoGjAbkUYoAp",
        "iky9q4vBYrdO",
        "F6T5p64dYrdO",
        "y-Ehk30pYrdP",
        "bamQiAODYuh1",
        "QHF8YVU7Yuh3",
        "GwzvFGzlYuh3",
        "qYpmQ266Yuh3",
        "OH-pJp9IphqM",
        "bbFf2-_FphqN",
        "_ouA3fa0phqN",
        "Seke61FWphqN",
        "PIIx-8_IphqN",
        "t27r6nlMphqO",
        "r2jJGEOYphqO",
        "b0JNsNcRphqO",
        "BZR9WyysphqO",
        "jj7wYXLtphqO",
        "eZrbJ2SmphqO",
        "rFu4xreNphqO",
        "YJ55k-q6phqO",
        "gCFgpxoyphqP",
        "OVtJsKN_phqQ",
        "lssrdh5qphqQ",
        "U2RJ9gkRphqQ",
        "1M8mcRywphqQ",
        "tgIPom80phqQ",
        "JMzcOPDDphqR",
        "x-EpHcCOp1ci",
        "X_VqEhTip1ck",
        "8zGJKyg5p1ck",
        "PVzmfK_Ep1ck",
        "n3dbpmDWp1ck",
        "ylSl6qgtp1ck",
        "ZWILFDl5p1ck",
        "M7G43BXep1ck",
        "Ag9LCva-p1cl",
        "E6MkPsBcp1cl",
        "2cELzS2fp1cl",
        "3MPXvC8up1cl",
        "NC_X3p0fY2L0",
        "EXh0U9oCveiU",
        "8G2x9gOozGDZ",
        "gIfDvo9L0UH2"
      ],
      "include_colab_link": true
    },
    "kernelspec": {
      "name": "python3",
      "display_name": "Python 3"
    },
    "language_info": {
      "name": "python"
    }
  },
  "cells": [
    {
      "cell_type": "markdown",
      "metadata": {
        "id": "view-in-github",
        "colab_type": "text"
      },
      "source": [
        "<a href=\"https://colab.research.google.com/github/mani-github2021/AirBnb_Booking_Analysis/blob/main/AirBnb_Bookings_Analysis_EDA_Submission.ipynb\" target=\"_parent\"><img src=\"https://colab.research.google.com/assets/colab-badge.svg\" alt=\"Open In Colab\"/></a>"
      ]
    },
    {
      "cell_type": "markdown",
      "source": [
        "# **Project Name**    \n",
        "\n"
      ],
      "metadata": {
        "id": "vncDsAP0Gaoa"
      }
    },
    {
      "cell_type": "markdown",
      "source": [
        "##### **Project Type**    - Exploratory Data Analysis\n",
        "##### **Contribution**    - Individual\n"
      ],
      "metadata": {
        "id": "beRrZCGUAJYm"
      }
    },
    {
      "cell_type": "markdown",
      "source": [
        "# **Project Summary**"
      ],
      "metadata": {
        "id": "FJNUwmbgGyua"
      }
    },
    {
      "cell_type": "markdown",
      "source": [
        "Airbnb has changed the way we travel since 2008, offering unique experiences worldwide. With millions of listings, Airbnb collects a lot of data, around 49,000 observations in this dataset alone, with 16 columns mixing different types of information. This data is essential for many things, like making the platform safer, deciding on business strategies, understanding how users and hosts behave, evaluating performance, targeting ads better, and coming up with new services. Exploring this dataset helps Airbnb learn from its users and improve its services for everyone."
      ],
      "metadata": {
        "id": "F6v_1wHtG2nS"
      }
    },
    {
      "cell_type": "markdown",
      "source": [
        "# **GitHub Link**"
      ],
      "metadata": {
        "id": "w6K7xa23Elo4"
      }
    },
    {
      "cell_type": "markdown",
      "source": [
        "https://github.com/mani-github2021/AirBnb_Booking_Analysis"
      ],
      "metadata": {
        "id": "h1o69JH3Eqqn"
      }
    },
    {
      "cell_type": "markdown",
      "source": [
        "# **Problem Statement**\n"
      ],
      "metadata": {
        "id": "yQaldy8SH6Dl"
      }
    },
    {
      "cell_type": "markdown",
      "source": [
        "Analyze the Airbnb NYC 2019 dataset to understand various aspects of Airbnb listings in New York City, such as distribution, pricing, and relationships between different variables, and to provide insights that can help improve business strategies for hosts and Airbnb as a platform.\n",
        "The analysis involves importing and examining the dataset, understanding the variables, performing data wrangling, and visualizing relationships between variables. Insights gained from the analysis will help Airbnb hosts and the platform optimize their offerings."
      ],
      "metadata": {
        "id": "DpeJGUA3kjGy"
      }
    },
    {
      "cell_type": "markdown",
      "source": [
        "#### **Define Your Business Objective?**"
      ],
      "metadata": {
        "id": "PH-0ReGfmX4f"
      }
    },
    {
      "cell_type": "markdown",
      "source": [
        "To gain insights from the Airbnb NYC 2019 dataset that can help improve host performance, optimize pricing strategies, and enhance guest satisfaction. This includes understanding data distribution, identifying key factors affecting prices, and finding patterns that can be leveraged for better decision-making."
      ],
      "metadata": {
        "id": "PhDvGCAqmjP1"
      }
    },
    {
      "cell_type": "markdown",
      "source": [
        "# ***Let's Begin !***"
      ],
      "metadata": {
        "id": "O_i_v8NEhb9l"
      }
    },
    {
      "cell_type": "markdown",
      "source": [
        "## ***1. Know Your Data***"
      ],
      "metadata": {
        "id": "HhfV-JJviCcP"
      }
    },
    {
      "cell_type": "markdown",
      "source": [
        "### Import Libraries"
      ],
      "metadata": {
        "id": "Y3lxredqlCYt"
      }
    },
    {
      "cell_type": "code",
      "source": [
        "# Import Libraries\n",
        "import numpy as np\n",
        "import pandas as pd\n",
        "import seaborn as sns\n",
        "import matplotlib.pyplot as plt\n",
        "import warnings\n",
        "warnings.filterwarnings('ignore')\n"
      ],
      "metadata": {
        "id": "M8Vqi-pPk-HR"
      },
      "execution_count": null,
      "outputs": []
    },
    {
      "cell_type": "markdown",
      "source": [
        "### Dataset Loading"
      ],
      "metadata": {
        "id": "3RnN4peoiCZX"
      }
    },
    {
      "cell_type": "code",
      "source": [
        "# Load Dataset\n",
        "path='/content/Airbnb NYC 2019.csv'\n",
        "df = pd.read_csv(path)"
      ],
      "metadata": {
        "id": "4CkvbW_SlZ_R"
      },
      "execution_count": null,
      "outputs": []
    },
    {
      "cell_type": "markdown",
      "source": [
        "### Dataset First View"
      ],
      "metadata": {
        "id": "x71ZqKXriCWQ"
      }
    },
    {
      "cell_type": "code",
      "source": [
        "# Dataset First Look\n",
        "df.head()"
      ],
      "metadata": {
        "id": "LWNFOSvLl09H"
      },
      "execution_count": null,
      "outputs": []
    },
    {
      "cell_type": "markdown",
      "source": [
        "### Dataset Rows & Columns count"
      ],
      "metadata": {
        "id": "7hBIi_osiCS2"
      }
    },
    {
      "cell_type": "code",
      "source": [
        "# Dataset Rows & Columns count\n",
        "df.shape"
      ],
      "metadata": {
        "id": "Kllu7SJgmLij"
      },
      "execution_count": null,
      "outputs": []
    },
    {
      "cell_type": "markdown",
      "source": [
        "### Dataset Information"
      ],
      "metadata": {
        "id": "JlHwYmJAmNHm"
      }
    },
    {
      "cell_type": "code",
      "source": [
        "# Dataset Info\n",
        "df.info()"
      ],
      "metadata": {
        "id": "e9hRXRi6meOf"
      },
      "execution_count": null,
      "outputs": []
    },
    {
      "cell_type": "markdown",
      "source": [
        "#### Duplicate Values"
      ],
      "metadata": {
        "id": "35m5QtbWiB9F"
      }
    },
    {
      "cell_type": "code",
      "source": [
        "# Dataset Duplicate Value Count\n",
        "df.duplicated().sum()\n"
      ],
      "metadata": {
        "id": "1sLdpKYkmox0"
      },
      "execution_count": null,
      "outputs": []
    },
    {
      "cell_type": "markdown",
      "source": [
        "#### Missing Values/Null Values"
      ],
      "metadata": {
        "id": "PoPl-ycgm1ru"
      }
    },
    {
      "cell_type": "code",
      "source": [
        "# Missing Values/Null Values Count\n",
        "df.isnull().sum()"
      ],
      "metadata": {
        "id": "GgHWkxvamxVg"
      },
      "execution_count": null,
      "outputs": []
    },
    {
      "cell_type": "code",
      "source": [
        "# Visualizing the missing values\n",
        "plt.rcParams['figure.figsize'] = (10,5)\n",
        "df.isna().sum().plot.bar()\n",
        "plt.show()"
      ],
      "metadata": {
        "id": "3q5wnI3om9sJ"
      },
      "execution_count": null,
      "outputs": []
    },
    {
      "cell_type": "markdown",
      "source": [
        "### What did you know about your dataset?"
      ],
      "metadata": {
        "id": "H0kj-8xxnORC"
      }
    },
    {
      "cell_type": "markdown",
      "source": [
        "The dataset has 48895 rows and 16 columns withmissing values in name, host name,last_review,reviews per month"
      ],
      "metadata": {
        "id": "gfoNAAC-nUe_"
      }
    },
    {
      "cell_type": "markdown",
      "source": [
        "## ***2. Understanding Your Variables***"
      ],
      "metadata": {
        "id": "nA9Y7ga8ng1Z"
      }
    },
    {
      "cell_type": "code",
      "source": [
        "# Dataset Columns\n",
        "list(df.columns)"
      ],
      "metadata": {
        "id": "j7xfkqrt5Ag5"
      },
      "execution_count": null,
      "outputs": []
    },
    {
      "cell_type": "code",
      "source": [
        "# Dataset Describe\n",
        "df.describe()"
      ],
      "metadata": {
        "id": "DnOaZdaE5Q5t"
      },
      "execution_count": null,
      "outputs": []
    },
    {
      "cell_type": "markdown",
      "source": [
        "### Variables Description"
      ],
      "metadata": {
        "id": "PBTbrJXOngz2"
      }
    },
    {
      "cell_type": "markdown",
      "source": [
        "*These are the variables in the dataset*\n",
        "\n",
        "id: Unique identifier\n",
        "\n",
        "name: Listing title\n",
        "\n",
        "host_id: Host identifier\n",
        "\n",
        "host_name: Host name\n",
        "\n",
        "neighbourhood_group: Grouped neighbourhood\n",
        "\n",
        "neighbourhood: Specific neighbourhood\n",
        "\n",
        "latitude: Geographic latitude\n",
        "\n",
        "longitude: Geographic longitude\n",
        "\n",
        "room_type: Type of room\n",
        "\n",
        "price: Listing price\n",
        "\n",
        "minimum_nights: Minimum stay\n",
        "\n",
        "number_of_reviews: Total reviews\n",
        "\n",
        "last_review: Date of last review\n",
        "\n",
        "reviews_per_month: Avg. reviews/month\n",
        "\n",
        "calculated_host_listings_count: Host listings count\n",
        "\n",
        "availability_365: Availability (days)"
      ],
      "metadata": {
        "id": "aJV4KIxSnxay"
      }
    },
    {
      "cell_type": "markdown",
      "source": [
        "### Check Unique Values for each variable."
      ],
      "metadata": {
        "id": "u3PMJOP6ngxN"
      }
    },
    {
      "cell_type": "code",
      "source": [
        "# Check Unique Values for each variable.\n",
        "for col in df.columns:\n",
        "    print(f\"Number of unique value for {col} is : {len(df[col].unique())}\")"
      ],
      "metadata": {
        "id": "zms12Yq5n-jE"
      },
      "execution_count": null,
      "outputs": []
    },
    {
      "cell_type": "markdown",
      "source": [
        "## 3. ***Data Wrangling***"
      ],
      "metadata": {
        "id": "dauF4eBmngu3"
      }
    },
    {
      "cell_type": "markdown",
      "source": [
        "### Data Wrangling Code"
      ],
      "metadata": {
        "id": "bKJF3rekwFvQ"
      }
    },
    {
      "cell_type": "code",
      "source": [
        "# Remove duplicates\n",
        "df = df.drop_duplicates()\n",
        "\n",
        "# Handle missing values (e.g., filling or dropping)\n",
        "df = df.dropna(subset=['name', 'host_name'])  # Dropping rows where 'name' or 'host_name' is missing\n",
        "df['reviews_per_month'].fillna(0, inplace=True)  # Filling missing reviews per month with 0\n"
      ],
      "metadata": {
        "id": "wk-9a2fpoLcV"
      },
      "execution_count": null,
      "outputs": []
    },
    {
      "cell_type": "code",
      "source": [
        "# Churn data groupby Area Code wise\n",
        "df.groupby(['Area code','Churn'])['Churn'].count().unstack()"
      ],
      "metadata": {
        "id": "-PRRXC-79WLv"
      },
      "execution_count": null,
      "outputs": []
    },
    {
      "cell_type": "code",
      "source": [
        "# Churn data groupby International plan wise\n",
        "df.groupby(['International plan','Churn'])['Churn'].count().unstack()"
      ],
      "metadata": {
        "id": "EK9OBUVe9ptw"
      },
      "execution_count": null,
      "outputs": []
    },
    {
      "cell_type": "code",
      "source": [
        "# Churn data groupby International plan wise\n",
        "df.groupby(['Voice mail plan','Churn'])['Churn'].count().unstack()"
      ],
      "metadata": {
        "id": "pPW4vkcR9xBG"
      },
      "execution_count": null,
      "outputs": []
    },
    {
      "cell_type": "code",
      "source": [
        "# Assigning churn data without international plan\n",
        "df_churn_intl_no = df[df['International plan'] =='No']\n",
        "# Assigning churn data with international plan\n",
        "df_churn_intl_yes = df[df['International plan'] =='Yes']\n"
      ],
      "metadata": {
        "id": "uGVGqsZu-RsE"
      },
      "execution_count": null,
      "outputs": []
    },
    {
      "cell_type": "code",
      "source": [
        "# Number of churn for each area\n",
        "df_churn_intl_no['Area code'].value_counts().reset_index(name='churn')"
      ],
      "metadata": {
        "id": "IMkRZZej-azh"
      },
      "execution_count": null,
      "outputs": []
    },
    {
      "cell_type": "code",
      "source": [
        "# Number of voicemail without international plan\n",
        "df_churn_intl_no['Number vmail messages'].value_counts().reset_index(name='user count')"
      ],
      "metadata": {
        "id": "T92vfkns-9nt"
      },
      "execution_count": null,
      "outputs": []
    },
    {
      "cell_type": "code",
      "source": [
        "# Number of voicemail with international plan\n",
        "df_churn_intl_yes['Number vmail messages'].value_counts().reset_index(name='user count')\n"
      ],
      "metadata": {
        "id": "WopgPg-X-_9o"
      },
      "execution_count": null,
      "outputs": []
    },
    {
      "cell_type": "code",
      "source": [
        "x=df[\"Churn\"].value_counts()[0]\n",
        "y=df[\"Churn\"].value_counts()[1]\n",
        "percentage_of_customer_churn=y/(x+y)*100\n",
        "print(percentage_of_customer_churn)"
      ],
      "metadata": {
        "id": "lXNAewXAw12S"
      },
      "execution_count": null,
      "outputs": []
    },
    {
      "cell_type": "code",
      "source": [
        "# creating column call duration per call for no international plan\n",
        "df_churn_intl_no['day_call_duration'] = df_churn_intl_no['Total day minutes']/df_churn_intl_no['Total day calls']\n",
        "df_churn_intl_no['eve_call_duration'] = df_churn_intl_no['Total eve minutes']/df_churn_intl_no['Total eve calls']\n",
        "df_churn_intl_no['night_call_duration'] = df_churn_intl_no['Total night minutes']/df_churn_intl_no['Total night calls']\n",
        "df_churn_intl_no['intl_call_duration'] = df_churn_intl_no['Total intl minutes']/df_churn_intl_no['Total intl calls']\n"
      ],
      "metadata": {
        "id": "c1RidiT2AM83"
      },
      "execution_count": null,
      "outputs": []
    },
    {
      "cell_type": "code",
      "source": [
        "# creating call duration column with international plan\n",
        "df_churn_intl_yes['day_call_duration'] = df_churn_intl_yes['Total day minutes']/df_churn_intl_yes['Total day calls']\n",
        "df_churn_intl_yes['eve_call_duration'] = df_churn_intl_yes['Total eve minutes']/df_churn_intl_yes['Total eve calls']\n",
        "df_churn_intl_yes['night_call_duration'] = df_churn_intl_yes['Total night minutes']/df_churn_intl_yes['Total night calls']\n",
        "df_churn_intl_yes['intl_call_duration'] = df_churn_intl_yes['Total intl minutes']/df_churn_intl_yes['Total intl calls']"
      ],
      "metadata": {
        "id": "41HcxoM2ARx4"
      },
      "execution_count": null,
      "outputs": []
    },
    {
      "cell_type": "code",
      "source": [
        "# creating price rate column for no international plan\n",
        "df_churn_intl_no['day_rate_per_min'] = df_churn_intl_no['Total day charge']/df_churn_intl_no['Total day minutes']\n",
        "df_churn_intl_no['eve_rate_per_min'] = df_churn_intl_no['Total eve charge']/df_churn_intl_no['Total eve minutes']\n",
        "df_churn_intl_no['night_rate_per_min'] = df_churn_intl_no['Total night charge']/df_churn_intl_no['Total night minutes']\n",
        "df_churn_intl_no['intl_rate_per_min'] = df_churn_intl_no['Total intl charge']/df_churn_intl_no['Total intl minutes']"
      ],
      "metadata": {
        "id": "LK0HYlvmAXN_"
      },
      "execution_count": null,
      "outputs": []
    },
    {
      "cell_type": "code",
      "source": [
        "# creating price rate column for international plan\n",
        "df_churn_intl_yes['day_rate_per_min'] = df_churn_intl_yes['Total day charge']/df_churn_intl_yes['Total day minutes']\n",
        "df_churn_intl_yes['eve_rate_per_min'] = df_churn_intl_yes['Total eve charge']/df_churn_intl_yes['Total eve minutes']\n",
        "df_churn_intl_yes['night_rate_per_min'] = df_churn_intl_yes['Total night charge']/df_churn_intl_yes['Total night minutes']\n",
        "df_churn_intl_yes['intl_rate_per_min'] = df_churn_intl_yes['Total intl charge']/df_churn_intl_yes['Total intl minutes']"
      ],
      "metadata": {
        "id": "r2zbM4cBAg56"
      },
      "execution_count": null,
      "outputs": []
    },
    {
      "cell_type": "code",
      "source": [
        "df_churn_intl_yes['intl_rate_per_min'].sum()"
      ],
      "metadata": {
        "id": "cPUFZ81-nA9m"
      },
      "execution_count": null,
      "outputs": []
    },
    {
      "cell_type": "code",
      "source": [
        "df['total mins'] = df['Total day minutes']+df['Total eve minutes']+df['Total night minutes']+df['Total intl minutes']\n",
        "df['total calls'] = df['Total day calls']+df['Total eve calls']+df['Total night calls']+df['Total intl calls']\n",
        "df['total charges'] = df['Total day charge']+df['Total eve charge']+df['Total night charge']+df['Total intl charge']\n"
      ],
      "metadata": {
        "id": "_Lhh_aBW0BRS"
      },
      "execution_count": null,
      "outputs": []
    },
    {
      "cell_type": "markdown",
      "source": [
        "### What all manipulations have you done and insights you found?"
      ],
      "metadata": {
        "id": "MSa1f5Uengrz"
      }
    },
    {
      "cell_type": "markdown",
      "source": [
        "First I groupby state and know the number of customer churn and not churn.\n",
        "\n",
        "Area code 415 has maximum number of customers .\n",
        "\n",
        "percentage of customer churn in each area is approximately equal i.e 14% to 15%.\n",
        "\n",
        "Area code 510 have minimum number of customers .\n",
        "\n",
        "Customers donot having interplan plan are maximum.\n",
        "\n",
        "Customer having international plan are minimum and the churn rate is high for those customers who have international plan.\n",
        "\n",
        "Customers having voice plan are maximum and approximately 20% of customers churn who have a voice plan.\n",
        "\n",
        "There are only 922 customers who has a voice plan .\n",
        "\n",
        "In the area code of 415 customers who donot have international plan are maxiumun (1505).\n",
        "\n",
        "Among the total customers 14.5% customers churn.\n",
        "\n"
      ],
      "metadata": {
        "id": "LbyXE7I1olp8"
      }
    },
    {
      "cell_type": "markdown",
      "source": [
        "## ***4. Data Vizualization, Storytelling & Experimenting with charts : Understand the relationships between variables***"
      ],
      "metadata": {
        "id": "GF8Ens_Soomf"
      }
    },
    {
      "cell_type": "markdown",
      "source": [
        "#### Chart - 1"
      ],
      "metadata": {
        "id": "0wOQAZs5pc--"
      }
    },
    {
      "cell_type": "code",
      "source": [
        "#Distribution of Prices\n",
        "plt.figure(figsize=(10, 6))\n",
        "sns.histplot(df['price'], bins=50, kde=True)\n",
        "plt.title('Distribution of Prices')\n",
        "plt.xlabel('Frequency')\n",
        "plt.ylabel('Price')\n",
        "plt.show()\n"
      ],
      "metadata": {
        "id": "7v_ESjsspbW7"
      },
      "execution_count": null,
      "outputs": []
    },
    {
      "cell_type": "markdown",
      "source": [
        "##### 1. Why did you pick the specific chart?"
      ],
      "metadata": {
        "id": "K5QZ13OEpz2H"
      }
    },
    {
      "cell_type": "markdown",
      "source": [
        "Histplot can be utilized to visualize the distribution of a dataset, showing the frequency of values within specified bins. I used this chart to understand the price distribution of Airbnb listings."
      ],
      "metadata": {
        "id": "XESiWehPqBRc"
      }
    },
    {
      "cell_type": "markdown",
      "source": [
        "##### 2. What is/are the insight(s) found from the chart?"
      ],
      "metadata": {
        "id": "lQ7QKXXCp7Bj"
      }
    },
    {
      "cell_type": "markdown",
      "source": [
        "Most listings are priced below $500. There are a few listings with extremely high prices."
      ],
      "metadata": {
        "id": "C_j1G7yiqdRP"
      }
    },
    {
      "cell_type": "markdown",
      "source": [
        "##### 3. Will the gained insights help creating a positive business impact?\n",
        "Are there any insights that lead to negative growth? Justify with specific reason."
      ],
      "metadata": {
        "id": "448CDAPjqfQr"
      }
    },
    {
      "cell_type": "markdown",
      "source": [
        "Helps the hosts understand the competitive pricing."
      ],
      "metadata": {
        "id": "3cspy4FjqxJW"
      }
    },
    {
      "cell_type": "markdown",
      "source": [
        "#### Chart - 2"
      ],
      "metadata": {
        "id": "KSlN3yHqYklG"
      }
    },
    {
      "cell_type": "code",
      "source": [
        "#Average Price by Neighborhood Group\n",
        "plt.figure(figsize=(10, 6))\n",
        "sns.barplot(x='neighbourhood_group', y='price', data=df)\n",
        "plt.title('Average Price by Neighborhood Group')\n",
        "plt.xlabel('Neighborhood Group')\n",
        "plt.ylabel('Average Price')\n",
        "plt.show()"
      ],
      "metadata": {
        "id": "R4YgtaqtYklH"
      },
      "execution_count": null,
      "outputs": []
    },
    {
      "cell_type": "markdown",
      "source": [
        "##### 1. Why did you pick the specific chart?"
      ],
      "metadata": {
        "id": "t6dVpIINYklI"
      }
    },
    {
      "cell_type": "markdown",
      "source": [
        "Bar charts show the frequency counts of values for the different labels of a categorical or nominal variable.I used this to compare average prices across different neighborhoods."
      ],
      "metadata": {
        "id": "5aaW0BYyYklI"
      }
    },
    {
      "cell_type": "markdown",
      "source": [
        "##### 2. What is/are the insight(s) found from the chart?"
      ],
      "metadata": {
        "id": "ijmpgYnKYklI"
      }
    },
    {
      "cell_type": "markdown",
      "source": [
        "We see the average price is high in Manhattan among them.\n"
      ],
      "metadata": {
        "id": "PSx9atu2YklI"
      }
    },
    {
      "cell_type": "markdown",
      "source": [
        "##### 3. Will the gained insights help creating a positive business impact?\n",
        "Are there any insights that lead to negative growth? Justify with specific reason."
      ],
      "metadata": {
        "id": "-JiQyfWJYklI"
      }
    },
    {
      "cell_type": "markdown",
      "source": [
        "Helps hosts in setting appropriate prices based on location."
      ],
      "metadata": {
        "id": "BcBbebzrYklV"
      }
    },
    {
      "cell_type": "markdown",
      "source": [
        "#### Chart - 3"
      ],
      "metadata": {
        "id": "EM7whBJCYoAo"
      }
    },
    {
      "cell_type": "code",
      "source": [
        "# Room Type Distribution\n",
        "plt.figure(figsize=(8, 8))\n",
        "room_counts = df['room_type'].value_counts()\n",
        "plt.pie(room_counts, labels=room_counts.index, autopct='%1.1f%%', startangle=140)\n",
        "plt.title('Room Type Distribution')\n",
        "plt.show()"
      ],
      "metadata": {
        "id": "t6GMdE67YoAp"
      },
      "execution_count": null,
      "outputs": []
    },
    {
      "cell_type": "markdown",
      "source": [
        "##### 1. Why did you pick the specific chart?"
      ],
      "metadata": {
        "id": "fge-S5ZAYoAp"
      }
    },
    {
      "cell_type": "markdown",
      "source": [
        "A pie chart is a circular statistical graphic divided into slices to illustrate numerical proportions. I picked this chart to understand the popularity of each type of room."
      ],
      "metadata": {
        "id": "5dBItgRVYoAp"
      }
    },
    {
      "cell_type": "markdown",
      "source": [
        "##### 2. What is/are the insight(s) found from the chart?"
      ],
      "metadata": {
        "id": "85gYPyotYoAp"
      }
    },
    {
      "cell_type": "markdown",
      "source": [
        "Entire home/apt is in high demand and shared rooms are in less demand"
      ],
      "metadata": {
        "id": "4jstXR6OYoAp"
      }
    },
    {
      "cell_type": "markdown",
      "source": [
        "##### 3. Will the gained insights help creating a positive business impact?\n",
        "Are there any insights that lead to negative growth? Justify with specific reason."
      ],
      "metadata": {
        "id": "RoGjAbkUYoAp"
      }
    },
    {
      "cell_type": "markdown",
      "source": [
        "Helps hosts on the most in-demand room types."
      ],
      "metadata": {
        "id": "zfJ8IqMcYoAp"
      }
    },
    {
      "cell_type": "markdown",
      "source": [
        "#### Chart - 4"
      ],
      "metadata": {
        "id": "4Of9eVA-YrdM"
      }
    },
    {
      "cell_type": "code",
      "source": [
        "#Availability by Neighborhood Group\n",
        "plt.figure(figsize=(10, 6))\n",
        "sns.boxplot(x='neighbourhood_group', y='availability_365', data=df)\n",
        "plt.title('Availability by Neighborhood Group')\n",
        "plt.xlabel('Neighborhood Group')\n",
        "plt.ylabel('Availability (days)')\n",
        "plt.show()\n"
      ],
      "metadata": {
        "id": "UhoMdVC_qlxw"
      },
      "execution_count": null,
      "outputs": []
    },
    {
      "cell_type": "markdown",
      "source": [
        "##### 1. Why did you pick the specific chart?"
      ],
      "metadata": {
        "id": "iky9q4vBYrdO"
      }
    },
    {
      "cell_type": "markdown",
      "source": [
        "A boxplot visually represents the distribution of a dataset by displaying its summary statistics in a concise manner. I picked this chart to see how availability varies across neighborhoods."
      ],
      "metadata": {
        "id": "aJRCwT6DYrdO"
      }
    },
    {
      "cell_type": "markdown",
      "source": [
        "##### 2. What is/are the insight(s) found from the chart?"
      ],
      "metadata": {
        "id": "F6T5p64dYrdO"
      }
    },
    {
      "cell_type": "markdown",
      "source": [
        "Some neighborhoods have listings with high availability year-round."
      ],
      "metadata": {
        "id": "Xx8WAJvtYrdO"
      }
    },
    {
      "cell_type": "markdown",
      "source": [
        "##### 3. Will the gained insights help creating a positive business impact?\n",
        "Are there any insights that lead to negative growth? Justify with specific reason."
      ],
      "metadata": {
        "id": "y-Ehk30pYrdP"
      }
    },
    {
      "cell_type": "markdown",
      "source": [
        "Helps hosts manage expectations and strategies based on availability trends."
      ],
      "metadata": {
        "id": "jLNxxz7MYrdP"
      }
    },
    {
      "cell_type": "markdown",
      "source": [
        "#### Chart - 5"
      ],
      "metadata": {
        "id": "bamQiAODYuh1"
      }
    },
    {
      "cell_type": "code",
      "source": [
        "# Convert non-numeric columns to numeric\n",
        "df_numeric = df.apply(pd.to_numeric, errors='coerce')\n",
        "\n",
        "# Create correlation heatmap\n",
        "plt.figure(figsize=(12, 8))\n",
        "sns.heatmap(df_numeric.corr(), annot=True, cmap='coolwarm', fmt='.2f')\n",
        "plt.title('Correlation Heatmap')\n",
        "plt.show()\n"
      ],
      "metadata": {
        "id": "TIJwrbroYuh3"
      },
      "execution_count": null,
      "outputs": []
    },
    {
      "cell_type": "markdown",
      "source": [
        "##### 1. Why did you pick the specific chart?"
      ],
      "metadata": {
        "id": "QHF8YVU7Yuh3"
      }
    },
    {
      "cell_type": "markdown",
      "source": [
        "A heatmap visually represents data using colors to indicate the magnitude of values in a matrix or table.I used this to explore relationships between numerical variables."
      ],
      "metadata": {
        "id": "dcxuIMRPYuh3"
      }
    },
    {
      "cell_type": "markdown",
      "source": [
        "##### 2. What is/are the insight(s) found from the chart?"
      ],
      "metadata": {
        "id": "GwzvFGzlYuh3"
      }
    },
    {
      "cell_type": "markdown",
      "source": [
        "Identifies strong and weak correlations among variables like price, reviews, and availability."
      ],
      "metadata": {
        "id": "uyqkiB8YYuh3"
      }
    },
    {
      "cell_type": "markdown",
      "source": [
        "##### 3. Will the gained insights help creating a positive business impact?\n",
        "Are there any insights that lead to negative growth? Justify with specific reason."
      ],
      "metadata": {
        "id": "qYpmQ266Yuh3"
      }
    },
    {
      "cell_type": "markdown",
      "source": [
        "Helps identify key factors influencing pricing and availability."
      ],
      "metadata": {
        "id": "_WtzZ_hCYuh4"
      }
    },
    {
      "cell_type": "markdown",
      "source": [
        "## **5. Solution to Business Objective**"
      ],
      "metadata": {
        "id": "JcMwzZxoAimU"
      }
    },
    {
      "cell_type": "markdown",
      "source": [
        "#### What do you suggest the client to achieve Business Objective ?\n",
        "Explain Briefly."
      ],
      "metadata": {
        "id": "8G2x9gOozGDZ"
      }
    },
    {
      "cell_type": "markdown",
      "source": [
        "Adjust pricing strategies based on neighborhood and competition.\n",
        "Focus on high-demand room types to maximize occupancy and revenue.\n",
        "Improve listings in underperforming neighborhoods by enhancing features and amenities."
      ],
      "metadata": {
        "id": "pASKb0qOza21"
      }
    },
    {
      "cell_type": "markdown",
      "source": [
        "# **Conclusion**"
      ],
      "metadata": {
        "id": "gCX9965dhzqZ"
      }
    },
    {
      "cell_type": "markdown",
      "source": [
        "Total 14.5% of the customers are predicted as churn\n",
        "\n",
        "State with highest number of customer is WV.\n",
        "\n",
        "Area code 415 has highest number of customers more than 1600.\n",
        "\n",
        "Only 9.7% customers are subscribed for international plan.\n",
        "\n",
        "27.7% of the customers subcribed for voice mail plan.\n",
        "\n",
        "Number of churn is higher where call duration is high.\n",
        "\n",
        "More number of call has higher number of churn.\n",
        "\n",
        "Higher price has higher number of churn.\n",
        "\n",
        "People with less number of voice message are less number of churn.\n",
        "\n",
        "total charge and total minute is linearly correlated with each other.\n",
        "\n",
        "The dataset has 3333 rows and 20 columns without any missing value and duplicate row.\n",
        "\n",
        "Total number of churn is 483\n",
        "\n",
        "State with highest churn are NJ and TX and highest number of churn is 18.\n",
        "\n",
        "Area code 415 has highest number of churn that is 236\n",
        "\n",
        "Number of churn with international plan is 137 and without plan is 346\n",
        "\n",
        "Number of churn with voice mail plan is 80 and without plan is 403."
      ],
      "metadata": {
        "id": "C3UtL-RpKQ9o"
      }
    },
    {
      "cell_type": "markdown",
      "source": [
        "### ***Hurrah! You have successfully completed your EDA Capstone Project !!!***"
      ],
      "metadata": {
        "id": "gIfDvo9L0UH2"
      }
    }
  ]
}